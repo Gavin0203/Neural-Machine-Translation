{
  "nbformat": 4,
  "nbformat_minor": 0,
  "metadata": {
    "kernelspec": {
      "display_name": "Python 3",
      "language": "python",
      "name": "python3"
    },
    "language_info": {
      "codemirror_mode": {
        "name": "ipython",
        "version": 3
      },
      "file_extension": ".py",
      "mimetype": "text/x-python",
      "name": "python",
      "nbconvert_exporter": "python",
      "pygments_lexer": "ipython3",
      "version": "3.7.6"
    },
    "colab": {
      "name": "Untitled.ipynb",
      "provenance": [],
      "collapsed_sections": []
    }
  },
  "cells": [
    {
      "cell_type": "code",
      "metadata": {
        "colab": {
          "base_uri": "https://localhost:8080/"
        },
        "id": "ynv429OBnzes",
        "outputId": "1156241c-d410-4af6-c64a-0229b3c7264d"
      },
      "source": [
        "with open('EMEA_train.fr','r',encoding='utf8') as f:\n",
        "    g = f.readlines()\n",
        "    print(g)"
      ],
      "execution_count": 2,
      "outputs": [
        {
          "output_type": "stream",
          "text": [
            "IOPub data rate exceeded.\n",
            "The notebook server will temporarily stop sending output\n",
            "to the client in order to avoid crashing it.\n",
            "To change this limit, set the config variable\n",
            "`--NotebookApp.iopub_data_rate_limit`.\n",
            "\n",
            "Current values:\n",
            "NotebookApp.iopub_data_rate_limit=1000000.0 (bytes/sec)\n",
            "NotebookApp.rate_limit_window=3.0 (secs)\n",
            "\n"
          ],
          "name": "stderr"
        }
      ]
    },
    {
      "cell_type": "code",
      "metadata": {
        "colab": {
          "base_uri": "https://localhost:8080/"
        },
        "id": "V_saU7nJnze3",
        "outputId": "884119c4-3e67-4cae-82f3-d5a046f50b32"
      },
      "source": [
        "! git clone https://github.com/rsennrich/subword-nmt"
      ],
      "execution_count": 2,
      "outputs": [
        {
          "output_type": "stream",
          "text": [
            "Cloning into 'subword-nmt'...\n",
            "remote: Enumerating objects: 576, done.\u001b[K\n",
            "remote: Total 576 (delta 0), reused 0 (delta 0), pack-reused 576\u001b[K\n",
            "Receiving objects: 100% (576/576), 233.30 KiB | 2.99 MiB/s, done.\n",
            "Resolving deltas: 100% (349/349), done.\n"
          ],
          "name": "stdout"
        }
      ]
    },
    {
      "cell_type": "code",
      "metadata": {
        "colab": {
          "base_uri": "https://localhost:8080/"
        },
        "id": "9QEqxVsRqJ7K",
        "outputId": "8e01cb08-d86e-4169-d2e0-a62083402bf5"
      },
      "source": [
        "!python /content/subword-nmt/learn_bpe.py -s 16000 -i train.fr -o train.fr.code "
      ],
      "execution_count": 6,
      "outputs": [
        {
          "output_type": "stream",
          "text": [
            "/content/subword-nmt/learn_bpe.py:332: DeprecationWarning: this script's location has moved to /content/subword-nmt/subword_nmt. This symbolic link will be removed in a future version. Please point to the new location, or install the package and use the command 'subword-nmt'\n",
            "  DeprecationWarning\n",
            "/content/subword-nmt/learn_bpe.py:357: ResourceWarning: unclosed file <_io.TextIOWrapper name='train.fr' mode='r' encoding='UTF-8'>\n",
            "  args.input = codecs.open(args.input.name, encoding='utf-8')\n",
            "/content/subword-nmt/learn_bpe.py:359: ResourceWarning: unclosed file <_io.TextIOWrapper name='train.fr.code' mode='w' encoding='UTF-8'>\n",
            "  args.output = codecs.open(args.output.name, 'w', encoding='utf-8')\n",
            "sys:1: ResourceWarning: unclosed file <_io.BufferedReader name='train.fr'>\n",
            "sys:1: ResourceWarning: unclosed file <_io.BufferedWriter name='train.fr.code'>\n"
          ],
          "name": "stdout"
        }
      ]
    },
    {
      "cell_type": "code",
      "metadata": {
        "colab": {
          "base_uri": "https://localhost:8080/"
        },
        "id": "bmFzHUOluX27",
        "outputId": "470ad502-e57e-41f0-f258-4df972b900f2"
      },
      "source": [
        "!python /content/subword-nmt/apply_bpe.py -c train.fr.code -i /content/train.fr -o /content/train_16k.fr.bpe"
      ],
      "execution_count": 7,
      "outputs": [
        {
          "output_type": "stream",
          "text": [
            "/content/subword-nmt/apply_bpe.py:396: DeprecationWarning: this script's location has moved to /content/subword-nmt/subword_nmt. This symbolic link will be removed in a future version. Please point to the new location, or install the package and use the command 'subword-nmt'\n",
            "  DeprecationWarning\n",
            "/content/subword-nmt/apply_bpe.py:416: ResourceWarning: unclosed file <_io.TextIOWrapper name='train.fr.code' mode='r' encoding='UTF-8'>\n",
            "  args.codes = codecs.open(args.codes.name, encoding='utf-8')\n",
            "/content/subword-nmt/apply_bpe.py:418: ResourceWarning: unclosed file <_io.TextIOWrapper name='/content/train.fr' mode='r' encoding='UTF-8'>\n",
            "  args.input = codecs.open(args.input.name, encoding='utf-8')\n",
            "/content/subword-nmt/apply_bpe.py:420: ResourceWarning: unclosed file <_io.TextIOWrapper name='/content/train_16k.fr.bpe' mode='w' encoding='UTF-8'>\n",
            "  args.output = codecs.open(args.output.name, 'w', encoding='utf-8')\n"
          ],
          "name": "stdout"
        }
      ]
    },
    {
      "cell_type": "code",
      "metadata": {
        "colab": {
          "base_uri": "https://localhost:8080/"
        },
        "id": "rVi1GjeQuL9X",
        "outputId": "a48941b0-4102-4fc5-8e64-c1fef0d6779d"
      },
      "source": [
        "!python /content/subword-nmt/learn_bpe.py -h"
      ],
      "execution_count": 8,
      "outputs": [
        {
          "output_type": "stream",
          "text": [
            "/content/subword-nmt/learn_bpe.py:332: DeprecationWarning: this script's location has moved to /content/subword-nmt/subword_nmt. This symbolic link will be removed in a future version. Please point to the new location, or install the package and use the command 'subword-nmt'\n",
            "  DeprecationWarning\n",
            "usage: learn_bpe.py [-h] [--input PATH] [--output PATH] [--symbols SYMBOLS]\n",
            "                    [--min-frequency FREQ] [--dict-input] [--total-symbols]\n",
            "                    [--num-workers NUM_WORKERS] [--verbose]\n",
            "\n",
            "learn BPE-based word segmentation\n",
            "\n",
            "optional arguments:\n",
            "  -h, --help            show this help message and exit\n",
            "  --input PATH, -i PATH\n",
            "                        Input text (default: standard input).\n",
            "  --output PATH, -o PATH\n",
            "                        Output file for BPE codes (default: standard output)\n",
            "  --symbols SYMBOLS, -s SYMBOLS\n",
            "                        Create this many new symbols (each representing a\n",
            "                        character n-gram) (default: 10000)\n",
            "  --min-frequency FREQ  Stop if no symbol pair has frequency >= FREQ (default:\n",
            "                        2)\n",
            "  --dict-input          If set, input file is interpreted as a dictionary\n",
            "                        where each line contains a word-count pair\n",
            "  --total-symbols, -t   subtract number of characters from the symbols to be\n",
            "                        generated (so that '--symbols' becomes an estimate for\n",
            "                        the total number of symbols needed to encode text).\n",
            "  --num-workers NUM_WORKERS\n",
            "                        Number of processors to process texts, only supported\n",
            "                        in Python3. If -1, set `multiprocessing.cpu_count()`.\n",
            "                        (default: 1)\n",
            "  --verbose, -v         verbose mode.\n"
          ],
          "name": "stdout"
        }
      ]
    },
    {
      "cell_type": "code",
      "metadata": {
        "colab": {
          "base_uri": "https://localhost:8080/"
        },
        "id": "ciO84f1IuRVD",
        "outputId": "d02156de-5bc4-4fde-a78a-cfcae15e03b7"
      },
      "source": [
        "!python /content/subword-nmt/learn_bpe.py -s 16000 -i train.en -o /content/Code_model/train.en.code "
      ],
      "execution_count": 10,
      "outputs": [
        {
          "output_type": "stream",
          "text": [
            "/content/subword-nmt/learn_bpe.py:332: DeprecationWarning: this script's location has moved to /content/subword-nmt/subword_nmt. This symbolic link will be removed in a future version. Please point to the new location, or install the package and use the command 'subword-nmt'\n",
            "  DeprecationWarning\n",
            "/content/subword-nmt/learn_bpe.py:357: ResourceWarning: unclosed file <_io.TextIOWrapper name='train.en' mode='r' encoding='UTF-8'>\n",
            "  args.input = codecs.open(args.input.name, encoding='utf-8')\n",
            "/content/subword-nmt/learn_bpe.py:359: ResourceWarning: unclosed file <_io.TextIOWrapper name='/content/Code_model/train.en.code' mode='w' encoding='UTF-8'>\n",
            "  args.output = codecs.open(args.output.name, 'w', encoding='utf-8')\n",
            "sys:1: ResourceWarning: unclosed file <_io.BufferedReader name='train.en'>\n",
            "sys:1: ResourceWarning: unclosed file <_io.BufferedWriter name='/content/Code_model/train.en.code'>\n"
          ],
          "name": "stdout"
        }
      ]
    },
    {
      "cell_type": "code",
      "metadata": {
        "colab": {
          "base_uri": "https://localhost:8080/"
        },
        "id": "B98TViKM4u7y",
        "outputId": "c0932148-a5ba-40ec-d8e7-a671468eb6cc"
      },
      "source": [
        "!python /content/subword-nmt/apply_bpe.py -c /content/Code_model/train.en.code -i /content/train.en -o /content/BPE_model/train_16k.en.bpe"
      ],
      "execution_count": 11,
      "outputs": [
        {
          "output_type": "stream",
          "text": [
            "/content/subword-nmt/apply_bpe.py:396: DeprecationWarning: this script's location has moved to /content/subword-nmt/subword_nmt. This symbolic link will be removed in a future version. Please point to the new location, or install the package and use the command 'subword-nmt'\n",
            "  DeprecationWarning\n",
            "/content/subword-nmt/apply_bpe.py:416: ResourceWarning: unclosed file <_io.TextIOWrapper name='/content/Code_model/train.en.code' mode='r' encoding='UTF-8'>\n",
            "  args.codes = codecs.open(args.codes.name, encoding='utf-8')\n",
            "/content/subword-nmt/apply_bpe.py:418: ResourceWarning: unclosed file <_io.TextIOWrapper name='/content/train.en' mode='r' encoding='UTF-8'>\n",
            "  args.input = codecs.open(args.input.name, encoding='utf-8')\n",
            "/content/subword-nmt/apply_bpe.py:420: ResourceWarning: unclosed file <_io.TextIOWrapper name='/content/BPE_model/train_16k.en.bpe' mode='w' encoding='UTF-8'>\n",
            "  args.output = codecs.open(args.output.name, 'w', encoding='utf-8')\n"
          ],
          "name": "stdout"
        }
      ]
    },
    {
      "cell_type": "code",
      "metadata": {
        "colab": {
          "base_uri": "https://localhost:8080/"
        },
        "id": "Fm7tRGlO5Tvu",
        "outputId": "27195730-4fa9-4ce9-810e-19d8931d69d6"
      },
      "source": [
        "!python /content/subword-nmt/apply_bpe.py -h"
      ],
      "execution_count": 12,
      "outputs": [
        {
          "output_type": "stream",
          "text": [
            "/content/subword-nmt/apply_bpe.py:396: DeprecationWarning: this script's location has moved to /content/subword-nmt/subword_nmt. This symbolic link will be removed in a future version. Please point to the new location, or install the package and use the command 'subword-nmt'\n",
            "  DeprecationWarning\n",
            "usage: apply_bpe.py [-h] [--input PATH] --codes PATH [--merges INT]\n",
            "                    [--output PATH] [--separator STR] [--vocabulary PATH]\n",
            "                    [--vocabulary-threshold INT] [--dropout P]\n",
            "                    [--glossaries STR [STR ...]] [--seed S]\n",
            "                    [--num-workers NUM_WORKERS]\n",
            "\n",
            "learn BPE-based word segmentation\n",
            "\n",
            "optional arguments:\n",
            "  -h, --help            show this help message and exit\n",
            "  --input PATH, -i PATH\n",
            "                        Input file (default: standard input).\n",
            "  --codes PATH, -c PATH\n",
            "                        File with BPE codes (created by learn_bpe.py).\n",
            "  --merges INT, -m INT  Use this many BPE operations (<= number of learned\n",
            "                        symbols)default: Apply all the learned merge\n",
            "                        operations\n",
            "  --output PATH, -o PATH\n",
            "                        Output file (default: standard output)\n",
            "  --separator STR, -s STR\n",
            "                        Separator between non-final subword units (default:\n",
            "                        '@@'))\n",
            "  --vocabulary PATH     Vocabulary file (built with get_vocab.py). If\n",
            "                        provided, this script reverts any merge operations\n",
            "                        that produce an OOV.\n",
            "  --vocabulary-threshold INT\n",
            "                        Vocabulary threshold. If vocabulary is provided, any\n",
            "                        word with frequency < threshold will be treated as OOV\n",
            "  --dropout P           Dropout BPE merge operations with probability P\n",
            "                        (Provilkov et al., 2019). Use this on training data\n",
            "                        only.\n",
            "  --glossaries STR [STR ...]\n",
            "                        Glossaries. Words matching any of the words/regex\n",
            "                        provided in glossaries will not be affected by the BPE\n",
            "                        (i.e. they will neither be broken into subwords, nor\n",
            "                        concatenated with other subwords. Can be provided as a\n",
            "                        list of words/regex after the --glossaries argument.\n",
            "                        Enclose each regex in quotes.\n",
            "  --seed S              Random seed for the random number generators (e.g. for\n",
            "                        BPE dropout with --dropout).\n",
            "  --num-workers NUM_WORKERS\n",
            "                        Number of processors to process texts, only supported\n",
            "                        in Python3. If -1, set `multiprocessing.cpu_count()`.\n",
            "                        (default: 1)\n"
          ],
          "name": "stdout"
        }
      ]
    },
    {
      "cell_type": "code",
      "metadata": {
        "colab": {
          "base_uri": "https://localhost:8080/"
        },
        "id": "-kvV4QTV5gzU",
        "outputId": "0162c1bd-4fcb-4965-f8ff-6ead6431ad63"
      },
      "source": [
        "!python /content/subword-nmt/learn_bpe.py -s 32000 -i train.en -o /content/Code_model/train_32.en.code "
      ],
      "execution_count": 13,
      "outputs": [
        {
          "output_type": "stream",
          "text": [
            "/content/subword-nmt/learn_bpe.py:332: DeprecationWarning: this script's location has moved to /content/subword-nmt/subword_nmt. This symbolic link will be removed in a future version. Please point to the new location, or install the package and use the command 'subword-nmt'\n",
            "  DeprecationWarning\n",
            "/content/subword-nmt/learn_bpe.py:357: ResourceWarning: unclosed file <_io.TextIOWrapper name='train.en' mode='r' encoding='UTF-8'>\n",
            "  args.input = codecs.open(args.input.name, encoding='utf-8')\n",
            "/content/subword-nmt/learn_bpe.py:359: ResourceWarning: unclosed file <_io.TextIOWrapper name='/content/Code_model/train_32.en.code' mode='w' encoding='UTF-8'>\n",
            "  args.output = codecs.open(args.output.name, 'w', encoding='utf-8')\n",
            "sys:1: ResourceWarning: unclosed file <_io.BufferedReader name='train.en'>\n",
            "sys:1: ResourceWarning: unclosed file <_io.BufferedWriter name='/content/Code_model/train_32.en.code'>\n"
          ],
          "name": "stdout"
        }
      ]
    },
    {
      "cell_type": "code",
      "metadata": {
        "colab": {
          "base_uri": "https://localhost:8080/"
        },
        "id": "OtK1v24e-WYL",
        "outputId": "b0faf699-0787-4d98-9e69-bfe0bc315266"
      },
      "source": [
        "!python /content/subword-nmt/learn_bpe.py -s 32000 -i train.fr -o /content/Code_model/train_32.fr.code "
      ],
      "execution_count": 14,
      "outputs": [
        {
          "output_type": "stream",
          "text": [
            "/content/subword-nmt/learn_bpe.py:332: DeprecationWarning: this script's location has moved to /content/subword-nmt/subword_nmt. This symbolic link will be removed in a future version. Please point to the new location, or install the package and use the command 'subword-nmt'\n",
            "  DeprecationWarning\n",
            "/content/subword-nmt/learn_bpe.py:357: ResourceWarning: unclosed file <_io.TextIOWrapper name='train.fr' mode='r' encoding='UTF-8'>\n",
            "  args.input = codecs.open(args.input.name, encoding='utf-8')\n",
            "/content/subword-nmt/learn_bpe.py:359: ResourceWarning: unclosed file <_io.TextIOWrapper name='/content/Code_model/train_32.fr.code' mode='w' encoding='UTF-8'>\n",
            "  args.output = codecs.open(args.output.name, 'w', encoding='utf-8')\n",
            "sys:1: ResourceWarning: unclosed file <_io.BufferedReader name='train.fr'>\n",
            "sys:1: ResourceWarning: unclosed file <_io.BufferedWriter name='/content/Code_model/train_32.fr.code'>\n"
          ],
          "name": "stdout"
        }
      ]
    },
    {
      "cell_type": "code",
      "metadata": {
        "colab": {
          "base_uri": "https://localhost:8080/"
        },
        "id": "cSCz79GF_Ud8",
        "outputId": "49ae1b94-f4e8-471f-8c0e-681ca85a7db5"
      },
      "source": [
        "!python /content/subword-nmt/apply_bpe.py -c /content/Code_model/train_32.en.code -i /content/train.en -o /content/BPE_model/train_32k.en.bpe"
      ],
      "execution_count": 15,
      "outputs": [
        {
          "output_type": "stream",
          "text": [
            "/content/subword-nmt/apply_bpe.py:396: DeprecationWarning: this script's location has moved to /content/subword-nmt/subword_nmt. This symbolic link will be removed in a future version. Please point to the new location, or install the package and use the command 'subword-nmt'\n",
            "  DeprecationWarning\n",
            "/content/subword-nmt/apply_bpe.py:416: ResourceWarning: unclosed file <_io.TextIOWrapper name='/content/Code_model/train_32.en.code' mode='r' encoding='UTF-8'>\n",
            "  args.codes = codecs.open(args.codes.name, encoding='utf-8')\n",
            "/content/subword-nmt/apply_bpe.py:418: ResourceWarning: unclosed file <_io.TextIOWrapper name='/content/train.en' mode='r' encoding='UTF-8'>\n",
            "  args.input = codecs.open(args.input.name, encoding='utf-8')\n",
            "/content/subword-nmt/apply_bpe.py:420: ResourceWarning: unclosed file <_io.TextIOWrapper name='/content/BPE_model/train_32k.en.bpe' mode='w' encoding='UTF-8'>\n",
            "  args.output = codecs.open(args.output.name, 'w', encoding='utf-8')\n"
          ],
          "name": "stdout"
        }
      ]
    },
    {
      "cell_type": "code",
      "metadata": {
        "colab": {
          "base_uri": "https://localhost:8080/"
        },
        "id": "yeMuYpJX_Uvd",
        "outputId": "cf5a5c30-a5a5-4d6e-815b-35a61d9e61b1"
      },
      "source": [
        "!python /content/subword-nmt/apply_bpe.py -c /content/Code_model/train_32.fr.code -i /content/train.fr -o /content/BPE_model/train_32k.fr.bpe"
      ],
      "execution_count": 16,
      "outputs": [
        {
          "output_type": "stream",
          "text": [
            "/content/subword-nmt/apply_bpe.py:396: DeprecationWarning: this script's location has moved to /content/subword-nmt/subword_nmt. This symbolic link will be removed in a future version. Please point to the new location, or install the package and use the command 'subword-nmt'\n",
            "  DeprecationWarning\n",
            "/content/subword-nmt/apply_bpe.py:416: ResourceWarning: unclosed file <_io.TextIOWrapper name='/content/Code_model/train_32.fr.code' mode='r' encoding='UTF-8'>\n",
            "  args.codes = codecs.open(args.codes.name, encoding='utf-8')\n",
            "/content/subword-nmt/apply_bpe.py:418: ResourceWarning: unclosed file <_io.TextIOWrapper name='/content/train.fr' mode='r' encoding='UTF-8'>\n",
            "  args.input = codecs.open(args.input.name, encoding='utf-8')\n",
            "/content/subword-nmt/apply_bpe.py:420: ResourceWarning: unclosed file <_io.TextIOWrapper name='/content/BPE_model/train_32k.fr.bpe' mode='w' encoding='UTF-8'>\n",
            "  args.output = codecs.open(args.output.name, 'w', encoding='utf-8')\n"
          ],
          "name": "stdout"
        }
      ]
    },
    {
      "cell_type": "code",
      "metadata": {
        "colab": {
          "base_uri": "https://localhost:8080/"
        },
        "id": "UBSUTq5x_-SO",
        "outputId": "3d267a79-9f73-4bd3-f1d1-81449452ade6"
      },
      "source": [
        "!python /content/subword-nmt/learn_bpe.py -s 48000 -i train.en -o /content/Code_model/train_48.en.code "
      ],
      "execution_count": 17,
      "outputs": [
        {
          "output_type": "stream",
          "text": [
            "/content/subword-nmt/learn_bpe.py:332: DeprecationWarning: this script's location has moved to /content/subword-nmt/subword_nmt. This symbolic link will be removed in a future version. Please point to the new location, or install the package and use the command 'subword-nmt'\n",
            "  DeprecationWarning\n",
            "/content/subword-nmt/learn_bpe.py:357: ResourceWarning: unclosed file <_io.TextIOWrapper name='train.en' mode='r' encoding='UTF-8'>\n",
            "  args.input = codecs.open(args.input.name, encoding='utf-8')\n",
            "/content/subword-nmt/learn_bpe.py:359: ResourceWarning: unclosed file <_io.TextIOWrapper name='/content/Code_model/train_48.en.code' mode='w' encoding='UTF-8'>\n",
            "  args.output = codecs.open(args.output.name, 'w', encoding='utf-8')\n",
            "sys:1: ResourceWarning: unclosed file <_io.BufferedReader name='train.en'>\n",
            "sys:1: ResourceWarning: unclosed file <_io.BufferedWriter name='/content/Code_model/train_48.en.code'>\n"
          ],
          "name": "stdout"
        }
      ]
    },
    {
      "cell_type": "code",
      "metadata": {
        "colab": {
          "base_uri": "https://localhost:8080/"
        },
        "id": "vRYQNIZs_-Vi",
        "outputId": "5dc41133-d9a3-4d3a-a866-b4a2e6211e0f"
      },
      "source": [
        "!python /content/subword-nmt/learn_bpe.py -s 48000 -i train.fr -o /content/Code_model/train_48.fr.code "
      ],
      "execution_count": 18,
      "outputs": [
        {
          "output_type": "stream",
          "text": [
            "/content/subword-nmt/learn_bpe.py:332: DeprecationWarning: this script's location has moved to /content/subword-nmt/subword_nmt. This symbolic link will be removed in a future version. Please point to the new location, or install the package and use the command 'subword-nmt'\n",
            "  DeprecationWarning\n",
            "/content/subword-nmt/learn_bpe.py:357: ResourceWarning: unclosed file <_io.TextIOWrapper name='train.fr' mode='r' encoding='UTF-8'>\n",
            "  args.input = codecs.open(args.input.name, encoding='utf-8')\n",
            "/content/subword-nmt/learn_bpe.py:359: ResourceWarning: unclosed file <_io.TextIOWrapper name='/content/Code_model/train_48.fr.code' mode='w' encoding='UTF-8'>\n",
            "  args.output = codecs.open(args.output.name, 'w', encoding='utf-8')\n",
            "sys:1: ResourceWarning: unclosed file <_io.BufferedReader name='train.fr'>\n",
            "sys:1: ResourceWarning: unclosed file <_io.BufferedWriter name='/content/Code_model/train_48.fr.code'>\n"
          ],
          "name": "stdout"
        }
      ]
    },
    {
      "cell_type": "code",
      "metadata": {
        "colab": {
          "base_uri": "https://localhost:8080/"
        },
        "id": "r63gasJ6AYR2",
        "outputId": "9aed7ee2-c07b-440b-8df8-aceae9ed657d"
      },
      "source": [
        "!python /content/subword-nmt/apply_bpe.py -c /content/Code_model/train_48.en.code -i /content/train.en -o /content/BPE_model/train_48k.en.bpe"
      ],
      "execution_count": 19,
      "outputs": [
        {
          "output_type": "stream",
          "text": [
            "/content/subword-nmt/apply_bpe.py:396: DeprecationWarning: this script's location has moved to /content/subword-nmt/subword_nmt. This symbolic link will be removed in a future version. Please point to the new location, or install the package and use the command 'subword-nmt'\n",
            "  DeprecationWarning\n",
            "/content/subword-nmt/apply_bpe.py:416: ResourceWarning: unclosed file <_io.TextIOWrapper name='/content/Code_model/train_48.en.code' mode='r' encoding='UTF-8'>\n",
            "  args.codes = codecs.open(args.codes.name, encoding='utf-8')\n",
            "/content/subword-nmt/apply_bpe.py:418: ResourceWarning: unclosed file <_io.TextIOWrapper name='/content/train.en' mode='r' encoding='UTF-8'>\n",
            "  args.input = codecs.open(args.input.name, encoding='utf-8')\n",
            "/content/subword-nmt/apply_bpe.py:420: ResourceWarning: unclosed file <_io.TextIOWrapper name='/content/BPE_model/train_48k.en.bpe' mode='w' encoding='UTF-8'>\n",
            "  args.output = codecs.open(args.output.name, 'w', encoding='utf-8')\n"
          ],
          "name": "stdout"
        }
      ]
    },
    {
      "cell_type": "code",
      "metadata": {
        "colab": {
          "base_uri": "https://localhost:8080/"
        },
        "id": "txaVl_caBROI",
        "outputId": "8bc0e992-c956-489f-a28c-75d842296cde"
      },
      "source": [
        "!python /content/subword-nmt/apply_bpe.py -c /content/Code_model/train_48.fr.code -i /content/train.en -o /content/BPE_model/train_48k.fr.bpe"
      ],
      "execution_count": 20,
      "outputs": [
        {
          "output_type": "stream",
          "text": [
            "/content/subword-nmt/apply_bpe.py:396: DeprecationWarning: this script's location has moved to /content/subword-nmt/subword_nmt. This symbolic link will be removed in a future version. Please point to the new location, or install the package and use the command 'subword-nmt'\n",
            "  DeprecationWarning\n",
            "/content/subword-nmt/apply_bpe.py:416: ResourceWarning: unclosed file <_io.TextIOWrapper name='/content/Code_model/train_48.fr.code' mode='r' encoding='UTF-8'>\n",
            "  args.codes = codecs.open(args.codes.name, encoding='utf-8')\n",
            "/content/subword-nmt/apply_bpe.py:418: ResourceWarning: unclosed file <_io.TextIOWrapper name='/content/train.en' mode='r' encoding='UTF-8'>\n",
            "  args.input = codecs.open(args.input.name, encoding='utf-8')\n",
            "/content/subword-nmt/apply_bpe.py:420: ResourceWarning: unclosed file <_io.TextIOWrapper name='/content/BPE_model/train_48k.fr.bpe' mode='w' encoding='UTF-8'>\n",
            "  args.output = codecs.open(args.output.name, 'w', encoding='utf-8')\n"
          ],
          "name": "stdout"
        }
      ]
    },
    {
      "cell_type": "code",
      "metadata": {
        "colab": {
          "base_uri": "https://localhost:8080/"
        },
        "id": "WAadRfwAdhYn",
        "outputId": "d4725a15-5a0c-4f73-9204-ab6cb6e2262b"
      },
      "source": [
        "!python /content/subword-nmt/apply_bpe.py -c /content/Code_model/train.fr.code -i EMEA_train.fr -o /content/my_model_directory/EMEA_train.fr.bpe"
      ],
      "execution_count": 22,
      "outputs": [
        {
          "output_type": "stream",
          "text": [
            "/content/subword-nmt/apply_bpe.py:396: DeprecationWarning: this script's location has moved to /content/subword-nmt/subword_nmt. This symbolic link will be removed in a future version. Please point to the new location, or install the package and use the command 'subword-nmt'\n",
            "  DeprecationWarning\n",
            "/content/subword-nmt/apply_bpe.py:416: ResourceWarning: unclosed file <_io.TextIOWrapper name='/content/Code_model/train.fr.code' mode='r' encoding='UTF-8'>\n",
            "  args.codes = codecs.open(args.codes.name, encoding='utf-8')\n",
            "/content/subword-nmt/apply_bpe.py:418: ResourceWarning: unclosed file <_io.TextIOWrapper name='EMEA_train.fr' mode='r' encoding='UTF-8'>\n",
            "  args.input = codecs.open(args.input.name, encoding='utf-8')\n",
            "/content/subword-nmt/apply_bpe.py:420: ResourceWarning: unclosed file <_io.TextIOWrapper name='/content/my_model_directory/EMEA_train.fr.bpe' mode='w' encoding='UTF-8'>\n",
            "  args.output = codecs.open(args.output.name, 'w', encoding='utf-8')\n"
          ],
          "name": "stdout"
        }
      ]
    },
    {
      "cell_type": "code",
      "metadata": {
        "colab": {
          "base_uri": "https://localhost:8080/"
        },
        "id": "EArhakE2dhgF",
        "outputId": "d1ca4892-cee8-4b1d-c984-1934bacfb525"
      },
      "source": [
        "!python /content/subword-nmt/apply_bpe.py -c /content/Code_model/train.fr.code -i EMEA_dev.fr -o /content/my_model_directory/EMEA_dev.fr.bpe"
      ],
      "execution_count": 23,
      "outputs": [
        {
          "output_type": "stream",
          "text": [
            "/content/subword-nmt/apply_bpe.py:396: DeprecationWarning: this script's location has moved to /content/subword-nmt/subword_nmt. This symbolic link will be removed in a future version. Please point to the new location, or install the package and use the command 'subword-nmt'\n",
            "  DeprecationWarning\n",
            "/content/subword-nmt/apply_bpe.py:416: ResourceWarning: unclosed file <_io.TextIOWrapper name='/content/Code_model/train.fr.code' mode='r' encoding='UTF-8'>\n",
            "  args.codes = codecs.open(args.codes.name, encoding='utf-8')\n",
            "/content/subword-nmt/apply_bpe.py:418: ResourceWarning: unclosed file <_io.TextIOWrapper name='EMEA_dev.fr' mode='r' encoding='UTF-8'>\n",
            "  args.input = codecs.open(args.input.name, encoding='utf-8')\n",
            "/content/subword-nmt/apply_bpe.py:420: ResourceWarning: unclosed file <_io.TextIOWrapper name='/content/my_model_directory/EMEA_dev.fr.bpe' mode='w' encoding='UTF-8'>\n",
            "  args.output = codecs.open(args.output.name, 'w', encoding='utf-8')\n"
          ],
          "name": "stdout"
        }
      ]
    },
    {
      "cell_type": "code",
      "metadata": {
        "colab": {
          "base_uri": "https://localhost:8080/"
        },
        "id": "prIo-PGYdhiF",
        "outputId": "c44e5e65-40d3-4620-bc79-d2ad88540ff0"
      },
      "source": [
        "!python /content/subword-nmt/apply_bpe.py -c /content/Code_model/train.fr.code -i EMEA_tst.fr -o /content/my_model_directory/EMEA_tst.fr.bpe"
      ],
      "execution_count": 24,
      "outputs": [
        {
          "output_type": "stream",
          "text": [
            "/content/subword-nmt/apply_bpe.py:396: DeprecationWarning: this script's location has moved to /content/subword-nmt/subword_nmt. This symbolic link will be removed in a future version. Please point to the new location, or install the package and use the command 'subword-nmt'\n",
            "  DeprecationWarning\n",
            "/content/subword-nmt/apply_bpe.py:416: ResourceWarning: unclosed file <_io.TextIOWrapper name='/content/Code_model/train.fr.code' mode='r' encoding='UTF-8'>\n",
            "  args.codes = codecs.open(args.codes.name, encoding='utf-8')\n",
            "/content/subword-nmt/apply_bpe.py:418: ResourceWarning: unclosed file <_io.TextIOWrapper name='EMEA_tst.fr' mode='r' encoding='UTF-8'>\n",
            "  args.input = codecs.open(args.input.name, encoding='utf-8')\n",
            "/content/subword-nmt/apply_bpe.py:420: ResourceWarning: unclosed file <_io.TextIOWrapper name='/content/my_model_directory/EMEA_tst.fr.bpe' mode='w' encoding='UTF-8'>\n",
            "  args.output = codecs.open(args.output.name, 'w', encoding='utf-8')\n"
          ],
          "name": "stdout"
        }
      ]
    },
    {
      "cell_type": "code",
      "metadata": {
        "colab": {
          "base_uri": "https://localhost:8080/"
        },
        "id": "zoBKAkawdhkX",
        "outputId": "14940f8c-18be-4f98-da68-800cd2050f2f"
      },
      "source": [
        "!python /content/subword-nmt/apply_bpe.py -c /content/Code_model/train.fr.code -i ep7_train.fr -o /content/my_model_directory/ep7_train.fr.bpe"
      ],
      "execution_count": 25,
      "outputs": [
        {
          "output_type": "stream",
          "text": [
            "/content/subword-nmt/apply_bpe.py:396: DeprecationWarning: this script's location has moved to /content/subword-nmt/subword_nmt. This symbolic link will be removed in a future version. Please point to the new location, or install the package and use the command 'subword-nmt'\n",
            "  DeprecationWarning\n",
            "/content/subword-nmt/apply_bpe.py:416: ResourceWarning: unclosed file <_io.TextIOWrapper name='/content/Code_model/train.fr.code' mode='r' encoding='UTF-8'>\n",
            "  args.codes = codecs.open(args.codes.name, encoding='utf-8')\n",
            "/content/subword-nmt/apply_bpe.py:418: ResourceWarning: unclosed file <_io.TextIOWrapper name='ep7_train.fr' mode='r' encoding='UTF-8'>\n",
            "  args.input = codecs.open(args.input.name, encoding='utf-8')\n",
            "/content/subword-nmt/apply_bpe.py:420: ResourceWarning: unclosed file <_io.TextIOWrapper name='/content/my_model_directory/ep7_train.fr.bpe' mode='w' encoding='UTF-8'>\n",
            "  args.output = codecs.open(args.output.name, 'w', encoding='utf-8')\n"
          ],
          "name": "stdout"
        }
      ]
    },
    {
      "cell_type": "code",
      "metadata": {
        "colab": {
          "base_uri": "https://localhost:8080/"
        },
        "id": "JTWuWMJNdhmn",
        "outputId": "755e2844-98e4-48d8-8f61-52a7e548d597"
      },
      "source": [
        "!python /content/subword-nmt/apply_bpe.py -c /content/Code_model/train.fr.code -i ep7_dev.fr -o /content/my_model_directory/ep7_dev.fr.bpe"
      ],
      "execution_count": 26,
      "outputs": [
        {
          "output_type": "stream",
          "text": [
            "/content/subword-nmt/apply_bpe.py:396: DeprecationWarning: this script's location has moved to /content/subword-nmt/subword_nmt. This symbolic link will be removed in a future version. Please point to the new location, or install the package and use the command 'subword-nmt'\n",
            "  DeprecationWarning\n",
            "/content/subword-nmt/apply_bpe.py:416: ResourceWarning: unclosed file <_io.TextIOWrapper name='/content/Code_model/train.fr.code' mode='r' encoding='UTF-8'>\n",
            "  args.codes = codecs.open(args.codes.name, encoding='utf-8')\n",
            "/content/subword-nmt/apply_bpe.py:418: ResourceWarning: unclosed file <_io.TextIOWrapper name='ep7_dev.fr' mode='r' encoding='UTF-8'>\n",
            "  args.input = codecs.open(args.input.name, encoding='utf-8')\n",
            "/content/subword-nmt/apply_bpe.py:420: ResourceWarning: unclosed file <_io.TextIOWrapper name='/content/my_model_directory/ep7_dev.fr.bpe' mode='w' encoding='UTF-8'>\n",
            "  args.output = codecs.open(args.output.name, 'w', encoding='utf-8')\n"
          ],
          "name": "stdout"
        }
      ]
    },
    {
      "cell_type": "code",
      "metadata": {
        "colab": {
          "base_uri": "https://localhost:8080/"
        },
        "id": "jx75FyrcdhqB",
        "outputId": "d1a6ce65-055f-4ff3-a805-9445fd068e24"
      },
      "source": [
        "!python /content/subword-nmt/apply_bpe.py -c /content/Code_model/train.fr.code -i ep7_tst.fr -o /content/my_model_directory/ep7_tst.fr.bpe"
      ],
      "execution_count": 27,
      "outputs": [
        {
          "output_type": "stream",
          "text": [
            "/content/subword-nmt/apply_bpe.py:396: DeprecationWarning: this script's location has moved to /content/subword-nmt/subword_nmt. This symbolic link will be removed in a future version. Please point to the new location, or install the package and use the command 'subword-nmt'\n",
            "  DeprecationWarning\n",
            "/content/subword-nmt/apply_bpe.py:416: ResourceWarning: unclosed file <_io.TextIOWrapper name='/content/Code_model/train.fr.code' mode='r' encoding='UTF-8'>\n",
            "  args.codes = codecs.open(args.codes.name, encoding='utf-8')\n",
            "/content/subword-nmt/apply_bpe.py:418: ResourceWarning: unclosed file <_io.TextIOWrapper name='ep7_tst.fr' mode='r' encoding='UTF-8'>\n",
            "  args.input = codecs.open(args.input.name, encoding='utf-8')\n",
            "/content/subword-nmt/apply_bpe.py:420: ResourceWarning: unclosed file <_io.TextIOWrapper name='/content/my_model_directory/ep7_tst.fr.bpe' mode='w' encoding='UTF-8'>\n",
            "  args.output = codecs.open(args.output.name, 'w', encoding='utf-8')\n"
          ],
          "name": "stdout"
        }
      ]
    },
    {
      "cell_type": "code",
      "metadata": {
        "colab": {
          "base_uri": "https://localhost:8080/"
        },
        "id": "IQWI1P6UkVwf",
        "outputId": "d322c95f-9edd-403d-9aea-cc43e6902424"
      },
      "source": [
        "!python /content/subword-nmt/apply_bpe.py -c /content/Code_model/train.en.code -i ep7_train.en -o /content/my_model_directory/ep7_train.en.bpe"
      ],
      "execution_count": 28,
      "outputs": [
        {
          "output_type": "stream",
          "text": [
            "/content/subword-nmt/apply_bpe.py:396: DeprecationWarning: this script's location has moved to /content/subword-nmt/subword_nmt. This symbolic link will be removed in a future version. Please point to the new location, or install the package and use the command 'subword-nmt'\n",
            "  DeprecationWarning\n",
            "/content/subword-nmt/apply_bpe.py:416: ResourceWarning: unclosed file <_io.TextIOWrapper name='/content/Code_model/train.en.code' mode='r' encoding='UTF-8'>\n",
            "  args.codes = codecs.open(args.codes.name, encoding='utf-8')\n",
            "/content/subword-nmt/apply_bpe.py:418: ResourceWarning: unclosed file <_io.TextIOWrapper name='ep7_train.en' mode='r' encoding='UTF-8'>\n",
            "  args.input = codecs.open(args.input.name, encoding='utf-8')\n",
            "/content/subword-nmt/apply_bpe.py:420: ResourceWarning: unclosed file <_io.TextIOWrapper name='/content/my_model_directory/ep7_train.en.bpe' mode='w' encoding='UTF-8'>\n",
            "  args.output = codecs.open(args.output.name, 'w', encoding='utf-8')\n"
          ],
          "name": "stdout"
        }
      ]
    },
    {
      "cell_type": "code",
      "metadata": {
        "colab": {
          "base_uri": "https://localhost:8080/"
        },
        "id": "DSp4MnEWkkKl",
        "outputId": "06a97d24-dfe4-4a1c-a0f0-c34dee246678"
      },
      "source": [
        "!python /content/subword-nmt/apply_bpe.py -c /content/Code_model/train.en.code -i ep7_dev.en -o /content/my_model_directory/ep7_dev.en.bpe"
      ],
      "execution_count": 29,
      "outputs": [
        {
          "output_type": "stream",
          "text": [
            "/content/subword-nmt/apply_bpe.py:396: DeprecationWarning: this script's location has moved to /content/subword-nmt/subword_nmt. This symbolic link will be removed in a future version. Please point to the new location, or install the package and use the command 'subword-nmt'\n",
            "  DeprecationWarning\n",
            "/content/subword-nmt/apply_bpe.py:416: ResourceWarning: unclosed file <_io.TextIOWrapper name='/content/Code_model/train.en.code' mode='r' encoding='UTF-8'>\n",
            "  args.codes = codecs.open(args.codes.name, encoding='utf-8')\n",
            "/content/subword-nmt/apply_bpe.py:418: ResourceWarning: unclosed file <_io.TextIOWrapper name='ep7_dev.en' mode='r' encoding='UTF-8'>\n",
            "  args.input = codecs.open(args.input.name, encoding='utf-8')\n",
            "/content/subword-nmt/apply_bpe.py:420: ResourceWarning: unclosed file <_io.TextIOWrapper name='/content/my_model_directory/ep7_dev.en.bpe' mode='w' encoding='UTF-8'>\n",
            "  args.output = codecs.open(args.output.name, 'w', encoding='utf-8')\n"
          ],
          "name": "stdout"
        }
      ]
    },
    {
      "cell_type": "code",
      "metadata": {
        "colab": {
          "base_uri": "https://localhost:8080/"
        },
        "id": "QEhCfTL9kv1i",
        "outputId": "d3bc3fd9-8225-48b0-82d5-f4f46e8a0f74"
      },
      "source": [
        "!python /content/subword-nmt/apply_bpe.py -c /content/Code_model/train.en.code -i ep7_tst.en -o /content/my_model_directory/ep7_tst.en.bpe"
      ],
      "execution_count": 30,
      "outputs": [
        {
          "output_type": "stream",
          "text": [
            "/content/subword-nmt/apply_bpe.py:396: DeprecationWarning: this script's location has moved to /content/subword-nmt/subword_nmt. This symbolic link will be removed in a future version. Please point to the new location, or install the package and use the command 'subword-nmt'\n",
            "  DeprecationWarning\n",
            "/content/subword-nmt/apply_bpe.py:416: ResourceWarning: unclosed file <_io.TextIOWrapper name='/content/Code_model/train.en.code' mode='r' encoding='UTF-8'>\n",
            "  args.codes = codecs.open(args.codes.name, encoding='utf-8')\n",
            "/content/subword-nmt/apply_bpe.py:418: ResourceWarning: unclosed file <_io.TextIOWrapper name='ep7_tst.en' mode='r' encoding='UTF-8'>\n",
            "  args.input = codecs.open(args.input.name, encoding='utf-8')\n",
            "/content/subword-nmt/apply_bpe.py:420: ResourceWarning: unclosed file <_io.TextIOWrapper name='/content/my_model_directory/ep7_tst.en.bpe' mode='w' encoding='UTF-8'>\n",
            "  args.output = codecs.open(args.output.name, 'w', encoding='utf-8')\n"
          ],
          "name": "stdout"
        }
      ]
    },
    {
      "cell_type": "code",
      "metadata": {
        "colab": {
          "base_uri": "https://localhost:8080/"
        },
        "id": "ICkXYrYKk1Ke",
        "outputId": "65c64637-af92-4159-cbc7-4fbc6777c172"
      },
      "source": [
        "!python /content/subword-nmt/apply_bpe.py -c /content/Code_model/train.en.code -i EMEA_train.en -o /content/my_model_directory/EMEA_train.en.bpe"
      ],
      "execution_count": 31,
      "outputs": [
        {
          "output_type": "stream",
          "text": [
            "/content/subword-nmt/apply_bpe.py:396: DeprecationWarning: this script's location has moved to /content/subword-nmt/subword_nmt. This symbolic link will be removed in a future version. Please point to the new location, or install the package and use the command 'subword-nmt'\n",
            "  DeprecationWarning\n",
            "/content/subword-nmt/apply_bpe.py:416: ResourceWarning: unclosed file <_io.TextIOWrapper name='/content/Code_model/train.en.code' mode='r' encoding='UTF-8'>\n",
            "  args.codes = codecs.open(args.codes.name, encoding='utf-8')\n",
            "/content/subword-nmt/apply_bpe.py:418: ResourceWarning: unclosed file <_io.TextIOWrapper name='EMEA_train.en' mode='r' encoding='UTF-8'>\n",
            "  args.input = codecs.open(args.input.name, encoding='utf-8')\n",
            "/content/subword-nmt/apply_bpe.py:420: ResourceWarning: unclosed file <_io.TextIOWrapper name='/content/my_model_directory/EMEA_train.en.bpe' mode='w' encoding='UTF-8'>\n",
            "  args.output = codecs.open(args.output.name, 'w', encoding='utf-8')\n"
          ],
          "name": "stdout"
        }
      ]
    },
    {
      "cell_type": "code",
      "metadata": {
        "colab": {
          "base_uri": "https://localhost:8080/"
        },
        "id": "EBAlBlfbk8i1",
        "outputId": "b48490cc-6951-486d-8ba7-ea276cc75fbb"
      },
      "source": [
        "!python /content/subword-nmt/apply_bpe.py -c /content/Code_model/train.en.code -i EMEA_dev.en -o /content/my_model_directory/EMEA_dev.en.bpe"
      ],
      "execution_count": 32,
      "outputs": [
        {
          "output_type": "stream",
          "text": [
            "/content/subword-nmt/apply_bpe.py:396: DeprecationWarning: this script's location has moved to /content/subword-nmt/subword_nmt. This symbolic link will be removed in a future version. Please point to the new location, or install the package and use the command 'subword-nmt'\n",
            "  DeprecationWarning\n",
            "/content/subword-nmt/apply_bpe.py:416: ResourceWarning: unclosed file <_io.TextIOWrapper name='/content/Code_model/train.en.code' mode='r' encoding='UTF-8'>\n",
            "  args.codes = codecs.open(args.codes.name, encoding='utf-8')\n",
            "/content/subword-nmt/apply_bpe.py:418: ResourceWarning: unclosed file <_io.TextIOWrapper name='EMEA_dev.en' mode='r' encoding='UTF-8'>\n",
            "  args.input = codecs.open(args.input.name, encoding='utf-8')\n",
            "/content/subword-nmt/apply_bpe.py:420: ResourceWarning: unclosed file <_io.TextIOWrapper name='/content/my_model_directory/EMEA_dev.en.bpe' mode='w' encoding='UTF-8'>\n",
            "  args.output = codecs.open(args.output.name, 'w', encoding='utf-8')\n"
          ],
          "name": "stdout"
        }
      ]
    },
    {
      "cell_type": "code",
      "metadata": {
        "colab": {
          "base_uri": "https://localhost:8080/"
        },
        "id": "TsqVbsmzlC75",
        "outputId": "530f460b-11ae-430c-f31b-821c0fd640cb"
      },
      "source": [
        "!python /content/subword-nmt/apply_bpe.py -c /content/Code_model/train.en.code -i EMEA_tst.en -o /content/my_model_directory/EMEA_tst.en.bpe"
      ],
      "execution_count": 33,
      "outputs": [
        {
          "output_type": "stream",
          "text": [
            "/content/subword-nmt/apply_bpe.py:396: DeprecationWarning: this script's location has moved to /content/subword-nmt/subword_nmt. This symbolic link will be removed in a future version. Please point to the new location, or install the package and use the command 'subword-nmt'\n",
            "  DeprecationWarning\n",
            "/content/subword-nmt/apply_bpe.py:416: ResourceWarning: unclosed file <_io.TextIOWrapper name='/content/Code_model/train.en.code' mode='r' encoding='UTF-8'>\n",
            "  args.codes = codecs.open(args.codes.name, encoding='utf-8')\n",
            "/content/subword-nmt/apply_bpe.py:418: ResourceWarning: unclosed file <_io.TextIOWrapper name='EMEA_tst.en' mode='r' encoding='UTF-8'>\n",
            "  args.input = codecs.open(args.input.name, encoding='utf-8')\n",
            "/content/subword-nmt/apply_bpe.py:420: ResourceWarning: unclosed file <_io.TextIOWrapper name='/content/my_model_directory/EMEA_tst.en.bpe' mode='w' encoding='UTF-8'>\n",
            "  args.output = codecs.open(args.output.name, 'w', encoding='utf-8')\n"
          ],
          "name": "stdout"
        }
      ]
    },
    {
      "cell_type": "code",
      "metadata": {
        "colab": {
          "base_uri": "https://localhost:8080/"
        },
        "id": "HdOsFNOhlG0t",
        "outputId": "1eb4794c-5cb1-41e5-f1fb-c7251f3033f9"
      },
      "source": [
        "!python /content/subword-nmt/get_vocab.py -i /content/BPE_model/train_16k.en.bpe -o  /content/my_model_directory/vocab.en"
      ],
      "execution_count": 37,
      "outputs": [
        {
          "output_type": "stream",
          "text": [
            "/content/subword-nmt/get_vocab.py:60: DeprecationWarning: this script's location has moved to /content/subword-nmt/subword_nmt. This symbolic link will be removed in a future version. Please point to the new location, or install the package and use the command 'subword-nmt'\n",
            "  DeprecationWarning\n",
            "/content/subword-nmt/get_vocab.py:78: ResourceWarning: unclosed file <_io.TextIOWrapper name='/content/BPE_model/train_16k.en.bpe' mode='r' encoding='UTF-8'>\n",
            "  args.input = codecs.open(args.input.name, encoding='utf-8')\n",
            "/content/subword-nmt/get_vocab.py:80: ResourceWarning: unclosed file <_io.TextIOWrapper name='/content/my_model_directory/vocab.en' mode='w' encoding='UTF-8'>\n",
            "  args.output = codecs.open(args.output.name, 'w', encoding='utf-8')\n",
            "sys:1: ResourceWarning: unclosed file <_io.BufferedReader name='/content/BPE_model/train_16k.en.bpe'>\n",
            "sys:1: ResourceWarning: unclosed file <_io.BufferedWriter name='/content/my_model_directory/vocab.en'>\n"
          ],
          "name": "stdout"
        }
      ]
    },
    {
      "cell_type": "code",
      "metadata": {
        "colab": {
          "base_uri": "https://localhost:8080/"
        },
        "id": "kqYyjpIEmpvm",
        "outputId": "f85960ce-9b44-40eb-bac7-4def72a804c3"
      },
      "source": [
        "!python /content/subword-nmt/get_vocab.py -i /content/BPE_model/train_16k.fr.bpe -o  /content/my_model_directory/vocab.fr"
      ],
      "execution_count": 38,
      "outputs": [
        {
          "output_type": "stream",
          "text": [
            "/content/subword-nmt/get_vocab.py:60: DeprecationWarning: this script's location has moved to /content/subword-nmt/subword_nmt. This symbolic link will be removed in a future version. Please point to the new location, or install the package and use the command 'subword-nmt'\n",
            "  DeprecationWarning\n",
            "/content/subword-nmt/get_vocab.py:78: ResourceWarning: unclosed file <_io.TextIOWrapper name='/content/BPE_model/train_16k.fr.bpe' mode='r' encoding='UTF-8'>\n",
            "  args.input = codecs.open(args.input.name, encoding='utf-8')\n",
            "/content/subword-nmt/get_vocab.py:80: ResourceWarning: unclosed file <_io.TextIOWrapper name='/content/my_model_directory/vocab.fr' mode='w' encoding='UTF-8'>\n",
            "  args.output = codecs.open(args.output.name, 'w', encoding='utf-8')\n",
            "sys:1: ResourceWarning: unclosed file <_io.BufferedReader name='/content/BPE_model/train_16k.fr.bpe'>\n",
            "sys:1: ResourceWarning: unclosed file <_io.BufferedWriter name='/content/my_model_directory/vocab.fr'>\n"
          ],
          "name": "stdout"
        }
      ]
    },
    {
      "cell_type": "code",
      "metadata": {
        "colab": {
          "base_uri": "https://localhost:8080/"
        },
        "id": "pZtfJZwPqoiu",
        "outputId": "8896d0c2-7901-4209-ef18-97a9c6aa1588"
      },
      "source": [
        "ls -l"
      ],
      "execution_count": 40,
      "outputs": [
        {
          "output_type": "stream",
          "text": [
            "total 27868\n",
            "drwxr-xr-x 2 root root    4096 Jan 29 21:21 \u001b[0m\u001b[01;34mBPE_model\u001b[0m/\n",
            "drwxr-xr-x 3 root root    4096 Jan 29 21:19 \u001b[01;34mCode_model\u001b[0m/\n",
            "-rw-r--r-- 1 root root   61044 Jan 29 23:27 EMEA_dev.en\n",
            "-rw-r--r-- 1 root root   73963 Jan 29 23:27 EMEA_dev.fr\n",
            "-rw-r--r-- 1 root root 3354971 Jan 29 23:27 EMEA_train.en\n",
            "-rw-r--r-- 1 root root 4031898 Jan 29 23:27 EMEA_train.fr\n",
            "-rw-r--r-- 1 root root   61943 Jan 29 23:27 EMEA_tst.en\n",
            "-rw-r--r-- 1 root root   75882 Jan 29 23:27 EMEA_tst.fr\n",
            "-rw-r--r-- 1 root root   63061 Jan 29 23:27 ep7_dev.en\n",
            "-rw-r--r-- 1 root root   71048 Jan 29 23:27 ep7_dev.fr\n",
            "-rw-r--r-- 1 root root 3031833 Jan 29 23:27 ep7_train.en\n",
            "-rw-r--r-- 1 root root 3495853 Jan 29 23:27 ep7_train.fr\n",
            "-rw-r--r-- 1 root root   59927 Jan 29 23:27 ep7_tst.en\n",
            "-rw-r--r-- 1 root root   67673 Jan 29 23:27 ep7_tst.fr\n",
            "drwxr-xr-x 2 root root    4096 Jan 30 00:22 \u001b[01;34mmy_model_directory\u001b[0m/\n",
            "drwxr-xr-x 1 root root    4096 Jan 20 17:27 \u001b[01;34msample_data\u001b[0m/\n",
            "drwxr-xr-x 5 root root    4096 Jan 29 19:48 \u001b[01;34msubword-nmt\u001b[0m/\n",
            "-rw-r--r-- 1 root root 6446806 Jan 29 19:48 train.en\n",
            "-rw-r--r-- 1 root root 7587753 Jan 29 19:48 train.fr\n"
          ],
          "name": "stdout"
        }
      ]
    },
    {
      "cell_type": "code",
      "metadata": {
        "id": "rJQmQpJrsmT8"
      },
      "source": [
        ""
      ],
      "execution_count": null,
      "outputs": []
    }
  ]
}